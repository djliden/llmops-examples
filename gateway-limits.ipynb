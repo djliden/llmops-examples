{
 "cells": [
  {
   "cell_type": "markdown",
   "metadata": {
    "application/vnd.databricks.v1+cell": {
     "cellMetadata": {
      "byteLimit": 2048000,
      "rowLimit": 10000
     },
     "inputWidgets": {},
     "nuid": "4f61b6db-9698-4e14-b7dd-e27e6e73a210",
     "showTitle": false,
     "title": ""
    }
   },
   "source": [
    "# Setting Usage Limits with the MLflow AI Gateway\n",
    "This notebooks shows how to set usage limits with the MLflow AI Gateway in Databricks. Usage limits can be set per-endpoint or per-user and are an effective way to control costs and prevent exceeding hosted model usage limits.\n",
    "\n",
    "This example will provide examples for both OpenAI and Mosaic endpoints."
   ]
  },
  {
   "cell_type": "code",
   "execution_count": 0,
   "metadata": {
    "application/vnd.databricks.v1+cell": {
     "cellMetadata": {
      "byteLimit": 2048000,
      "rowLimit": 10000
     },
     "inputWidgets": {},
     "nuid": "080efc01-3eea-4a3d-b107-ef2c8a4865b8",
     "showTitle": false,
     "title": ""
    }
   },
   "outputs": [],
   "source": [
    "!pip install --upgrade 'mlflow[gateway]'\n",
    "dbutils.library.restartPython()"
   ]
  },
  {
   "cell_type": "code",
   "execution_count": 0,
   "metadata": {
    "application/vnd.databricks.v1+cell": {
     "cellMetadata": {
      "byteLimit": 2048000,
      "rowLimit": 10000
     },
     "inputWidgets": {},
     "nuid": "cb196bfe-8f33-4e26-9876-2c7f9be24663",
     "showTitle": false,
     "title": ""
    }
   },
   "outputs": [],
   "source": [
    "# configure keys\n",
    "import os\n",
    "from dotenv import load_dotenv\n",
    "import mlflow.gateway\n",
    "\n",
    "load_dotenv()\n",
    "\n",
    "OPENAI_API_KEY = dbutils.secrets.get(scope=\"daniel.liden\", key=\"OPENAI_API_KEY\")\n",
    "MOSAIC_API_KEY = dbutils.secrets.get(scope=\"daniel.liden\", key=\"MOSAIC_API_KEY\")"
   ]
  },
  {
   "cell_type": "code",
   "execution_count": 0,
   "metadata": {
    "application/vnd.databricks.v1+cell": {
     "cellMetadata": {
      "byteLimit": 2048000,
      "rowLimit": 10000
     },
     "inputWidgets": {},
     "nuid": "53f0c373-5d8a-469d-bf6d-b35d9caf808b",
     "showTitle": false,
     "title": ""
    }
   },
   "outputs": [],
   "source": [
    "mlflow.gateway.set_gateway_uri(\"databricks\")"
   ]
  },
  {
   "cell_type": "code",
   "execution_count": 0,
   "metadata": {
    "application/vnd.databricks.v1+cell": {
     "cellMetadata": {
      "byteLimit": 2048000,
      "rowLimit": 10000
     },
     "inputWidgets": {},
     "nuid": "5e2e52b6-6eb3-4542-b7b3-226b0069d683",
     "showTitle": false,
     "title": ""
    }
   },
   "outputs": [],
   "source": [
    "\n",
    "# mlflow.gateway.delete_route(\"dl-gpt-3_5-turbo\")\n",
    "mlflow.gateway.create_route(\n",
    "    name=\"dl-gpt-3_5-turbo\",\n",
    "    route_type=\"llm/v1/chat\",\n",
    "    model= {\n",
    "        \"name\": \"gpt-3.5-turbo\", \n",
    "        \"provider\": \"openai\",\n",
    "        \"openai_config\": {\n",
    "          \"openai_api_key\": OPENAI_API_KEY,\n",
    "        }\n",
    "    }\n",
    ")\n",
    "\n",
    "# mlflow.gateway.delete_route(\"dl-llama-70b-chat-mosaic\")\n",
    "mlflow.gateway.create_route(\n",
    "    name=\"dl-llama-70b-chat-mosaic\",\n",
    "    route_type=\"llm/v1/chat\",\n",
    "    model= {\n",
    "        \"name\": \"llama2-70b-chat\", \n",
    "        \"provider\": \"mosaicml\",\n",
    "        \"mosaicml_config\": {\n",
    "          \"mosaicml_api_key\": MOSAIC_API_KEY,\n",
    "        }\n",
    "    }\n",
    ")"
   ]
  },
  {
   "cell_type": "markdown",
   "metadata": {
    "application/vnd.databricks.v1+cell": {
     "cellMetadata": {
      "byteLimit": 2048000,
      "rowLimit": 10000
     },
     "inputWidgets": {},
     "nuid": "9e320ae4-cf89-4fea-b777-85bc3ca470bc",
     "showTitle": false,
     "title": ""
    }
   },
   "source": [
    "## Set limits with `set_limits`\n",
    "- for the openai route, we'll set limits to 3 requests per user per minute.\n",
    "- for the mosaic route, we'll set limits to 2 requests for the endpoint per minute."
   ]
  },
  {
   "cell_type": "code",
   "execution_count": 0,
   "metadata": {
    "application/vnd.databricks.v1+cell": {
     "cellMetadata": {
      "byteLimit": 2048000,
      "rowLimit": 10000
     },
     "inputWidgets": {},
     "nuid": "6b8ed0db-7180-47e1-923c-673f66997cab",
     "showTitle": false,
     "title": ""
    }
   },
   "outputs": [],
   "source": [
    "mlflow.gateway.set_limits(\n",
    "    \"dl-gpt-3_5-turbo\", [{\"key\": \"user\", \"renewal_period\": \"minute\", \"calls\": 1}]\n",
    ")\n",
    "\n",
    "mlflow.gateway.set_limits(\n",
    "    \"dl-llama-70b-chat-mosaic\",\n",
    "    [{\"key\": \"user\", \"renewal_period\": \"minute\", \"calls\": 1}],\n",
    ")"
   ]
  },
  {
   "cell_type": "code",
   "execution_count": 0,
   "metadata": {
    "application/vnd.databricks.v1+cell": {
     "cellMetadata": {
      "byteLimit": 2048000,
      "rowLimit": 10000
     },
     "inputWidgets": {},
     "nuid": "0751505f-ffc6-44a2-833f-3bb35373e312",
     "showTitle": false,
     "title": ""
    }
   },
   "outputs": [],
   "source": [
    "mlflow.gateway.get_limits(\"dl-gpt-3_5-turbo\")"
   ]
  },
  {
   "cell_type": "code",
   "execution_count": 0,
   "metadata": {
    "application/vnd.databricks.v1+cell": {
     "cellMetadata": {
      "byteLimit": 2048000,
      "rowLimit": 10000
     },
     "inputWidgets": {},
     "nuid": "968036c9-3039-403c-9e5b-d1c41182a78b",
     "showTitle": false,
     "title": ""
    }
   },
   "outputs": [],
   "source": [
    "mlflow.gateway.query(\n",
    "    \"dl-gpt-3_5-turbo\",\n",
    "    {\"messages\": [{\"role\": \"user\", \"content\": \"Very concisely explain MLflow runs.\"}]},\n",
    ")"
   ]
  },
  {
   "cell_type": "code",
   "execution_count": 0,
   "metadata": {
    "application/vnd.databricks.v1+cell": {
     "cellMetadata": {
      "byteLimit": 2048000,
      "rowLimit": 10000
     },
     "inputWidgets": {},
     "nuid": "8326a6c3-57c8-44a1-8e0d-30d9a722d090",
     "showTitle": false,
     "title": ""
    }
   },
   "outputs": [],
   "source": [
    "mlflow.gateway.query(\n",
    "    \"dl-gpt-3_5-turbo\",\n",
    "    {\n",
    "        \"messages\": [\n",
    "            {\"role\": \"user\", \"content\": \"Very concisely explain MLflow artifacts.\"}\n",
    "        ]\n",
    "    },\n",
    ")"
   ]
  },
  {
   "cell_type": "code",
   "execution_count": 0,
   "metadata": {
    "application/vnd.databricks.v1+cell": {
     "cellMetadata": {
      "byteLimit": 2048000,
      "rowLimit": 10000
     },
     "inputWidgets": {},
     "nuid": "1c037a64-e584-41fe-83ad-87cc87a323e4",
     "showTitle": false,
     "title": ""
    }
   },
   "outputs": [],
   "source": [
    "mlflow.gateway.query(\n",
    "    \"dl-llama-70b-chat-mosaic\",\n",
    "    {\"messages\": [{\"role\": \"user\", \"content\": \"Very concisely explain MLflow runs.\"}]},\n",
    ")\n",
    "mlflow.gateway.query(\n",
    "    \"dl-llama-70b-chat-mosaic\",\n",
    "    {\n",
    "        \"messages\": [\n",
    "            {\"role\": \"user\", \"content\": \"Very concisely explain MLflow experiments.\"}\n",
    "        ]\n",
    "    },\n",
    ")\n",
    "mlflow.gateway.query(\n",
    "    \"dl-llama-70b-chat-mosaic\",\n",
    "    {\n",
    "        \"messages\": [\n",
    "            {\"role\": \"user\", \"content\": \"Very concisely explain MLflow models.\"}\n",
    "        ]\n",
    "    },\n",
    ")"
   ]
  },
  {
   "cell_type": "code",
   "execution_count": 0,
   "metadata": {
    "application/vnd.databricks.v1+cell": {
     "cellMetadata": {
      "byteLimit": 2048000,
      "rowLimit": 10000
     },
     "inputWidgets": {},
     "nuid": "8bb99f88-299f-4391-937e-559061555cd7",
     "showTitle": false,
     "title": ""
    }
   },
   "outputs": [],
   "source": []
  }
 ],
 "metadata": {
  "application/vnd.databricks.v1+notebook": {
   "dashboards": [],
   "language": "python",
   "notebookMetadata": {
    "pythonIndentUnit": 2
   },
   "notebookName": "gateway-limits",
   "widgets": {}
  }
 },
 "nbformat": 4,
 "nbformat_minor": 0
}
