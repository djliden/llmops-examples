{
 "cells": [
  {
   "cell_type": "markdown",
   "metadata": {
    "application/vnd.databricks.v1+cell": {
     "cellMetadata": {
      "byteLimit": 2048000,
      "rowLimit": 10000
     },
     "inputWidgets": {},
     "nuid": "4f61b6db-9698-4e14-b7dd-e27e6e73a210",
     "showTitle": false,
     "title": ""
    }
   },
   "source": [
    "# Setting Usage Limits with the MLflow AI Gateway\n",
    "This notebooks shows how to set usage limits with the MLflow AI Gateway in Databricks. Usage limits can be set per-endpoint or per-user and are an effective way to control costs and prevent exceeding hosted model usage limits.\n",
    "\n",
    "This example will provide examples for both OpenAI and Mosaic endpoints."
   ]
  },
  {
   "cell_type": "markdown",
   "metadata": {
    "application/vnd.databricks.v1+cell": {
     "cellMetadata": {
      "byteLimit": 2048000,
      "rowLimit": 10000
     },
     "inputWidgets": {},
     "nuid": "ff58a911-ce35-4d70-9048-f2cc5c71eae7",
     "showTitle": false,
     "title": ""
    }
   },
   "source": [
    "## 1. Set up MLflow with AI Gateway"
   ]
  },
  {
   "cell_type": "code",
   "execution_count": 0,
   "metadata": {
    "application/vnd.databricks.v1+cell": {
     "cellMetadata": {
      "byteLimit": 2048000,
      "rowLimit": 10000
     },
     "inputWidgets": {},
     "nuid": "080efc01-3eea-4a3d-b107-ef2c8a4865b8",
     "showTitle": false,
     "title": ""
    }
   },
   "outputs": [],
   "source": [
    "!pip install --upgrade 'mlflow[gateway]'\n",
    "dbutils.library.restartPython()"
   ]
  },
  {
   "cell_type": "markdown",
   "metadata": {
    "application/vnd.databricks.v1+cell": {
     "cellMetadata": {
      "byteLimit": 2048000,
      "rowLimit": 10000
     },
     "inputWidgets": {},
     "nuid": "7bedf205-1f50-4f04-9ccf-2888bf7adb10",
     "showTitle": false,
     "title": ""
    }
   },
   "source": [
    "## 2. Load keys\n",
    "\n",
    "You can add API keys from the Databricks CLI with:\n",
    "\n",
    "```bash\n",
    "databricks secrets create-scope --scope <scope-name>\n",
    "databricks secrets put --scope <scope-name> --key <key-name>\n",
    "```"
   ]
  },
  {
   "cell_type": "code",
   "execution_count": 0,
   "metadata": {
    "application/vnd.databricks.v1+cell": {
     "cellMetadata": {
      "byteLimit": 2048000,
      "rowLimit": 10000
     },
     "inputWidgets": {},
     "nuid": "cb196bfe-8f33-4e26-9876-2c7f9be24663",
     "showTitle": false,
     "title": ""
    }
   },
   "outputs": [],
   "source": [
    "# configure keys\n",
    "import os\n",
    "\n",
    "# from dotenv import load_dotenv\n",
    "import mlflow.gateway\n",
    "\n",
    "# load_dotenv()\n",
    "OPENAI_API_KEY = dbutils.secrets.get(scope=\"daniel.liden\", key=\"OPENAI_API_KEY\")\n",
    "MOSAIC_API_KEY = dbutils.secrets.get(scope=\"daniel.liden\", key=\"MOSAIC_API_KEY\")"
   ]
  },
  {
   "cell_type": "code",
   "execution_count": 0,
   "metadata": {
    "application/vnd.databricks.v1+cell": {
     "cellMetadata": {
      "byteLimit": 2048000,
      "rowLimit": 10000
     },
     "inputWidgets": {},
     "nuid": "53f0c373-5d8a-469d-bf6d-b35d9caf808b",
     "showTitle": false,
     "title": ""
    }
   },
   "outputs": [],
   "source": [
    "mlflow.gateway.set_gateway_uri(\"databricks\")"
   ]
  },
  {
   "cell_type": "markdown",
   "metadata": {
    "application/vnd.databricks.v1+cell": {
     "cellMetadata": {
      "byteLimit": 2048000,
      "rowLimit": 10000
     },
     "inputWidgets": {},
     "nuid": "c0655ecd-d4ac-4422-8671-483d3807d793",
     "showTitle": false,
     "title": ""
    }
   },
   "source": [
    "## 3. Search available routes and add new routes if needed"
   ]
  },
  {
   "cell_type": "code",
   "execution_count": 0,
   "metadata": {
    "application/vnd.databricks.v1+cell": {
     "cellMetadata": {
      "byteLimit": 2048000,
      "rowLimit": 10000
     },
     "inputWidgets": {},
     "nuid": "8a7f2bca-32a2-42a8-995a-5d0f7d09a67c",
     "showTitle": false,
     "title": ""
    }
   },
   "outputs": [],
   "source": [
    "mlflow.gateway.search_routes()"
   ]
  },
  {
   "cell_type": "code",
   "execution_count": 0,
   "metadata": {
    "application/vnd.databricks.v1+cell": {
     "cellMetadata": {
      "byteLimit": 2048000,
      "rowLimit": 10000
     },
     "inputWidgets": {},
     "nuid": "5e2e52b6-6eb3-4542-b7b3-226b0069d683",
     "showTitle": false,
     "title": ""
    }
   },
   "outputs": [],
   "source": [
    "# mlflow.gateway.delete_route(\"dl-gpt-3_5-turbo\")\n",
    "mlflow.gateway.create_route(\n",
    "    name=\"dl-gpt-3_5-turbo\",\n",
    "    route_type=\"llm/v1/chat\",\n",
    "    model= {\n",
    "        \"name\": \"gpt-3.5-turbo\", \n",
    "        \"provider\": \"openai\",\n",
    "        \"openai_config\": {\n",
    "          \"openai_api_key\": OPENAI_API_KEY,\n",
    "        }\n",
    "    }\n",
    ")\n",
    "\n",
    "# mlflow.gateway.delete_route(\"dl-llama-70b-chat-mosaic\")\n",
    "mlflow.gateway.create_route(\n",
    "    name=\"dl-llama-70b-chat-mosaic\",\n",
    "    route_type=\"llm/v1/chat\",\n",
    "    model= {\n",
    "        \"name\": \"llama2-70b-chat\", \n",
    "        \"provider\": \"mosaicml\",\n",
    "        \"mosaicml_config\": {\n",
    "          \"mosaicml_api_key\": MOSAIC_API_KEY,\n",
    "        }\n",
    "    }\n",
    ")"
   ]
  },
  {
   "cell_type": "markdown",
   "metadata": {
    "application/vnd.databricks.v1+cell": {
     "cellMetadata": {
      "byteLimit": 2048000,
      "rowLimit": 10000
     },
     "inputWidgets": {},
     "nuid": "9e320ae4-cf89-4fea-b777-85bc3ca470bc",
     "showTitle": false,
     "title": ""
    }
   },
   "source": [
    "## 4. Set limits with `set_limits`\n",
    "See documentation [here](https://mlflow.org/docs/latest/python_api/mlflow.gateway.html#mlflow.gateway.MlflowGatewayClient.set_limits). You can set limits per-route or per-user; in the example below, they are set per-user. For demonstration purposes, we set the limits as low as possible: one request per minute.\n",
    "\n"
   ]
  },
  {
   "cell_type": "code",
   "execution_count": 0,
   "metadata": {
    "application/vnd.databricks.v1+cell": {
     "cellMetadata": {
      "byteLimit": 2048000,
      "rowLimit": 10000
     },
     "inputWidgets": {},
     "nuid": "6b8ed0db-7180-47e1-923c-673f66997cab",
     "showTitle": false,
     "title": ""
    }
   },
   "outputs": [],
   "source": [
    "mlflow.gateway.set_limits(\n",
    "    \"dl-gpt-3_5-turbo\", [{\"key\": \"user\", \"renewal_period\": \"minute\", \"calls\": 1}]\n",
    ")\n",
    "\n",
    "mlflow.gateway.set_limits(\n",
    "    \"dl-llama-70b-chat-mosaic\",\n",
    "    [{\"key\": \"user\", \"renewal_period\": \"minute\", \"calls\": 1}],\n",
    ")"
   ]
  },
  {
   "cell_type": "code",
   "execution_count": 0,
   "metadata": {
    "application/vnd.databricks.v1+cell": {
     "cellMetadata": {
      "byteLimit": 2048000,
      "rowLimit": 10000
     },
     "inputWidgets": {},
     "nuid": "0751505f-ffc6-44a2-833f-3bb35373e312",
     "showTitle": false,
     "title": ""
    }
   },
   "outputs": [],
   "source": [
    "mlflow.gateway.get_limits(\"dl-gpt-3_5-turbo\")"
   ]
  },
  {
   "cell_type": "markdown",
   "metadata": {
    "application/vnd.databricks.v1+cell": {
     "cellMetadata": {
      "byteLimit": 2048000,
      "rowLimit": 10000
     },
     "inputWidgets": {},
     "nuid": "4dd51fc5-1b70-4d70-8044-8d2773610b34",
     "showTitle": false,
     "title": ""
    }
   },
   "source": [
    "## 5. Query the route with the Python client"
   ]
  },
  {
   "cell_type": "code",
   "execution_count": 0,
   "metadata": {
    "application/vnd.databricks.v1+cell": {
     "cellMetadata": {
      "byteLimit": 2048000,
      "rowLimit": 10000
     },
     "inputWidgets": {},
     "nuid": "968036c9-3039-403c-9e5b-d1c41182a78b",
     "showTitle": false,
     "title": ""
    }
   },
   "outputs": [],
   "source": [
    "mlflow.gateway.query(\n",
    "    \"dl-gpt-3_5-turbo\",\n",
    "    {\"messages\": [{\"role\": \"user\", \"content\": \"Very concisely explain MLflow runs.\"}],\n",
    "     \"max_tokens\": 40},\n",
    ")"
   ]
  },
  {
   "cell_type": "code",
   "execution_count": 0,
   "metadata": {
    "application/vnd.databricks.v1+cell": {
     "cellMetadata": {
      "byteLimit": 2048000,
      "rowLimit": 10000
     },
     "inputWidgets": {},
     "nuid": "60e6b539-ff22-425e-a8f5-95fdb2989e5e",
     "showTitle": false,
     "title": ""
    }
   },
   "outputs": [],
   "source": [
    "mlflow.gateway.query(\n",
    "    \"dl-gpt-3_5-turbo\",\n",
    "    {\"messages\": [{\"role\": \"user\", \"content\": \"Very concisely explain MLflow experiments.\"}],\n",
    "     \"max_tokens\": 40},\n",
    ")"
   ]
  },
  {
   "cell_type": "markdown",
   "metadata": {
    "application/vnd.databricks.v1+cell": {
     "cellMetadata": {
      "byteLimit": 2048000,
      "rowLimit": 10000
     },
     "inputWidgets": {},
     "nuid": "1e5d2380-793c-49db-bc3b-3c5a4e98cd78",
     "showTitle": false,
     "title": ""
    }
   },
   "source": [
    "## 6. Query the route with the REST API"
   ]
  },
  {
   "cell_type": "code",
   "execution_count": 0,
   "metadata": {
    "application/vnd.databricks.v1+cell": {
     "cellMetadata": {
      "byteLimit": 2048000,
      "rowLimit": 10000
     },
     "inputWidgets": {},
     "nuid": "bd2040f6-eaab-4e6b-a5a2-16b3dc38cd59",
     "showTitle": false,
     "title": ""
    }
   },
   "outputs": [],
   "source": [
    "route = mlflow.gateway.get_route(\"dl-gpt-3_5-turbo\")\n",
    "route_url = route.route_url"
   ]
  },
  {
   "cell_type": "code",
   "execution_count": 0,
   "metadata": {
    "application/vnd.databricks.v1+cell": {
     "cellMetadata": {
      "byteLimit": 2048000,
      "rowLimit": 10000
     },
     "inputWidgets": {},
     "nuid": "72a1273c-5478-481e-be72-e41ee0502516",
     "showTitle": false,
     "title": ""
    }
   },
   "outputs": [],
   "source": [
    "token = dbutils.notebook.entry_point.getDbutils().notebook().getContext().apiToken().getOrElse(None)"
   ]
  },
  {
   "cell_type": "code",
   "execution_count": 0,
   "metadata": {
    "application/vnd.databricks.v1+cell": {
     "cellMetadata": {
      "byteLimit": 2048000,
      "rowLimit": 10000
     },
     "inputWidgets": {},
     "nuid": "435dfcee-0c2e-4822-aff8-9e0ad1b6244f",
     "showTitle": false,
     "title": ""
    }
   },
   "outputs": [],
   "source": [
    "import requests\n",
    "import json\n",
    "\n",
    "headers = {\n",
    "    'Content-Type': 'application/json',\n",
    "    'Authorization': 'Bearer ' + token\n",
    "}\n",
    "data = {\n",
    "    'messages': [\n",
    "        {\n",
    "            'role': 'user',\n",
    "            'content': 'Tell me about the mlflow rest API.'\n",
    "        }\n",
    "    ],\n",
    "    'max_tokens': 40\n",
    "}\n",
    "\n",
    "response = requests.post(route_url, headers=headers, data=json.dumps(data))\n",
    "response, response.json()"
   ]
  }
 ],
 "metadata": {
  "application/vnd.databricks.v1+notebook": {
   "dashboards": [],
   "language": "python",
   "notebookMetadata": {
    "mostRecentlyExecutedCommandWithImplicitDF": {
     "commandId": 2999748506390304,
     "dataframes": [
      "_sqldf"
     ]
    },
    "pythonIndentUnit": 2
   },
   "notebookName": "gateway-limits",
   "widgets": {}
  }
 },
 "nbformat": 4,
 "nbformat_minor": 0
}
