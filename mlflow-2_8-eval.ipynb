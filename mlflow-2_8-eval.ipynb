{
 "cells": [
  {
   "cell_type": "markdown",
   "metadata": {},
   "source": [
    "# New MLflow Evaluate Features in MLflow 2.8\n",
    "\n",
    "```quote\n",
    "[Evaluate] Introduce default provided LLM evaluation metrics for MLflow evaluate (#9913, @prithvikannan)\n",
    "[Evaluate] Add support for evaluating inference datasets in MLflow evaluate (#9830, @liangz1)\n",
    "[Evaluate] Add support for evaluating single argument functions in MLflow evaluate (#9718, @liangz1)\n",
    "[Evaluate] Add support for Retriever LLM model type evaluation within MLflow evaluate (#10079, @liangz1)\n",
    "```\n",
    "\n",
    "## 1. Default provided LLM Evaluation Metrics for MLflow evaluate"
   ]
  },
  {
   "cell_type": "markdown",
   "metadata": {},
   "source": []
  }
 ],
 "metadata": {
  "language_info": {
   "name": "python"
  }
 },
 "nbformat": 4,
 "nbformat_minor": 2
}
