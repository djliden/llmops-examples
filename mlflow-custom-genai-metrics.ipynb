{
 "cells": [
  {
   "cell_type": "markdown",
   "metadata": {},
   "source": [
    "# Introduction\n",
    "\n",
    "MLflow 2.8 introduced [LLM-as-judge genai metrics](https://mlflow.org/docs/latest/python_api/mlflow.metrics.html#generative-ai-metrics). [This notebook](mlflow-genai-metrics.ipynb) shows how to use preconfigured genai metrics, such as answer correctness and answere relevance, to evaluate models in MLflow. Here, we show how to generate [custom genai metrics](https://mlflow.org/docs/latest/llms/llm-evaluate/notebooks/question-answering-evaluation.html#Custom-LLM-judged-metric-for-professionalism), allowing you to use LLMs to judge based on any criteria you can describe.\n",
    "\n",
    "To define a custom metric, use the `mlflow.metrics.make_genai_metric` function. You must provide:\n",
    "- A `definition`, which describes what the judge LLM is measuring;\n",
    "- A `grading_prompt`, which describes the grading scale and criteria;\n",
    "- Grading examples; and\n",
    "- A grading model and related configurations (e.g. gpt4 with temperature).\n",
    "\n",
    "Here's an example metric that is graded on the basis of \"accessibility.\" A model should receive a poor \"accessibility\" score if it answers questions with unnecessary jargon, technical language, or confusing sentence structures. A model should receive a high \"accessibility\" score if it answers questions with clear and concise language."
   ]
  },
  {
   "cell_type": "code",
   "execution_count": 5,
   "metadata": {},
   "outputs": [
    {
     "data": {
      "text/plain": [
       "True"
      ]
     },
     "execution_count": 5,
     "metadata": {},
     "output_type": "execute_result"
    }
   ],
   "source": [
    "# setup\n",
    "import openai\n",
    "import pandas as pd\n",
    "from dotenv import load_dotenv\n",
    "from mlflow.metrics.genai import EvaluationExample, make_genai_metric\n",
    "\n",
    "load_dotenv(override=True)"
   ]
  },
  {
   "cell_type": "code",
   "execution_count": 6,
   "metadata": {},
   "outputs": [
    {
     "name": "stdout",
     "output_type": "stream",
     "text": [
      "EvaluationMetric(name=accessibility, greater_is_better=True, long_name=accessibility, version=v1, metric_details=\n",
      "Task:\n",
      "You are an impartial judge. You will be given an input that was sent to a machine\n",
      "learning model, and you will be given an output that the model produced. You\n",
      "may also be given additional information that was used by the model to generate the output.\n",
      "\n",
      "Your task is to determine a numerical score called accessibility based on the input and output.\n",
      "A definition of accessibility and a grading rubric are provided below.\n",
      "You must use the grading rubric to determine your score. You must also justify your score.\n",
      "\n",
      "Examples could be included below for reference. Make sure to use them as references and to\n",
      "understand them before completing the task.\n",
      "\n",
      "Input:\n",
      "{input}\n",
      "\n",
      "Output:\n",
      "{output}\n",
      "\n",
      "{grading_context_columns}\n",
      "\n",
      "Metric definition:\n",
      "Accessibility in this context refers to the use of language that is easily understandable by a wide audience, minimizing technical jargon, complex sentence structures, or specialized terminology. It involves using clear, concise language and presenting information in a straightforward manner.\n",
      "\n",
      "Grading rubric:\n",
      "Accessibility: Evaluate how accessible the language in the model's response is. \n",
      "- Score 0: The response is filled with dense jargon, technical language, and complex sentence structures, making it very difficult for a general audience to understand.\n",
      "- Score 5: The response uses some technical terms or complex sentences but generally remains understandable to a broad audience.\n",
      "- Score 10: The response is exceptionally clear and concise, free of unnecessary jargon, and easily understandable by a wide audience, regardless of their background.\n",
      "\n",
      "Examples:\n",
      "\n",
      "Input:\n",
      "What is machine learning?\n",
      "\n",
      "Output:\n",
      "Machine learning is a subset of artificial intelligence where computers are programmed to learn from data. Unlike traditional programming, where we explicitly code every decision the computer should make, machine learning allows the computer to uncover patterns and make decisions based on past observations.\n",
      "\n",
      "\n",
      "\n",
      "score: 7\n",
      "justification: This response provides a direct explanation of machine learning with some level of complexity. It avoids heavy jargon and is fairly accessible, yet it involves concepts like 'subset of artificial intelligence' and 'traditional programming,' which add minor complexity.\n",
      "        \n",
      "\n",
      "Input:\n",
      "What is the historical foundation of the Iliad?\n",
      "\n",
      "Output:\n",
      "The Iliad's narrative, steeped in mythological lore, ostensibly traces its lineage back to the epoch of the Trojan War, a putative event of the Bronze Age. However, its veracity as a historical document is contentious, with characters like Achilles and Hector likely being more allegorical or aggrandized than actual historical personages.\n",
      "\n",
      "\n",
      "\n",
      "score: 3\n",
      "justification: The response incorporates more complex and less commonly used terms such as 'ostensibly', 'putative', and 'allegorical', which can make the text less accessible to a general audience. While it addresses the topic, the use of these terms and a somewhat circuitous explanation style obscure the clarity, warranting a score of 3.\n",
      "        \n",
      "\n",
      "You must return the following fields in your response one below the other:\n",
      "score: Your numerical score for the model's accessibility based on the rubric\n",
      "justification: Your step-by-step reasoning about the model's accessibility score\n",
      "    )\n"
     ]
    }
   ],
   "source": [
    "\n",
    "answer_accessibility = make_genai_metric(\n",
    "    name=\"accessibility\",\n",
    "    definition=(\n",
    "        \"Accessibility in this context refers to the use of language that is easily \"\n",
    "        \"understandable by a wide audience, minimizing technical jargon, complex \"\n",
    "        \"sentence structures, or specialized terminology. It involves using clear, \"\n",
    "        \"concise language and presenting information in a straightforward manner.\"\n",
    "    ),\n",
    "    grading_prompt=(\n",
    "        \"Accessibility: Evaluate how accessible the language in the model's response \"\n",
    "        \"is. \\n\"\n",
    "        \"- Score 0: The response is filled with dense jargon, technical language, and \"\n",
    "        \"complex sentence structures, making it very difficult for a general audience \"\n",
    "        \"to understand.\\n\"\n",
    "        \"- Score 5: The response uses some technical terms or complex sentences but \"\n",
    "        \"generally remains understandable to a broad audience.\\n\"\n",
    "        \"- Score 10: The response is exceptionally clear and concise, free of \"\n",
    "        \"unnecessary jargon, and easily understandable by a wide audience, regardless \"\n",
    "        \"of their background.\"\n",
    "    ),\n",
    "    examples=[\n",
    "        EvaluationExample(\n",
    "            input=\"What is machine learning?\",\n",
    "            output=(\n",
    "                \"Machine learning is a subset of artificial intelligence where computers are \"\n",
    "                \"programmed to learn from data. Unlike traditional programming, where we \"\n",
    "                \"explicitly code every decision the computer should make, machine learning \"\n",
    "                \"allows the computer to uncover patterns and make decisions based on past \"\n",
    "                \"observations.\"\n",
    "            ),\n",
    "            score=7,\n",
    "            justification=(\n",
    "                \"This response provides a direct explanation of machine learning with some \"\n",
    "                \"level of complexity. It avoids heavy jargon and is fairly accessible, yet \"\n",
    "                \"it involves concepts like 'subset of artificial intelligence' and 'traditional \"\n",
    "                \"programming,' which add minor complexity.\"\n",
    "            ),\n",
    "        ),\n",
    "        EvaluationExample(\n",
    "            input=\"What is the historical foundation of the Iliad?\",\n",
    "            output=(\n",
    "                \"The Iliad's narrative, steeped in mythological lore, ostensibly traces its lineage \"\n",
    "                \"back to the epoch of the Trojan War, a putative event of the Bronze Age. However, \"\n",
    "                \"its veracity as a historical document is contentious, with characters like Achilles \"\n",
    "                \"and Hector likely being more allegorical or aggrandized than actual historical \"\n",
    "                \"personages.\"\n",
    "            ),\n",
    "            score=3,\n",
    "            justification=(\n",
    "                \"The response incorporates more complex and less commonly used terms such as 'ostensibly', \"\n",
    "                \"'putative', and 'allegorical', which can make the text less accessible to a general \"\n",
    "                \"audience. While it addresses the topic, the use of these terms and a somewhat circuitous \"\n",
    "                \"explanation style obscure the clarity, warranting a score of 3.\"\n",
    "            ),\n",
    "        ),\n",
    "    ],\n",
    "    version=\"v1\",\n",
    "    model=\"openai:/gpt-4\",\n",
    "    parameters={\"temperature\": 0.0},\n",
    "    grading_context_columns=[],\n",
    "    aggregations=[\"mean\", \"variance\", \"p90\"],\n",
    "    greater_is_better=True,\n",
    ")\n",
    "\n",
    "print(answer_accessibility)"
   ]
  },
  {
   "cell_type": "code",
   "execution_count": 7,
   "metadata": {},
   "outputs": [],
   "source": [
    "import pandas as pd\n",
    "\n",
    "eval_df = pd.DataFrame(\n",
    "    {\n",
    "        \"inputs\": [\n",
    "            \"Explain the concept of supply and demand in economics.\",\n",
    "            \"Describe the process of photosynthesis.\",\n",
    "            \"What are the principles of object-oriented programming?\",\n",
    "            \"How does quantum computing differ from classical computing?\",\n",
    "            \"Discuss the themes in Shakespeare's Hamlet.\",\n",
    "        ]\n",
    "    }\n",
    ")"
   ]
  },
  {
   "cell_type": "code",
   "execution_count": 9,
   "metadata": {},
   "outputs": [
    {
     "name": "stderr",
     "output_type": "stream",
     "text": [
      "/Users/daniel.liden/miniconda3/envs/mlops/lib/python3.11/site-packages/_distutils_hack/__init__.py:18: UserWarning: Distutils was imported before Setuptools, but importing Setuptools also replaces the `distutils` module in `sys.modules`. This may lead to undesirable behaviors or errors. To avoid these issues, avoid using distutils directly, ensure that setuptools is installed in the traditional way (e.g. not an editable install), and/or make sure that setuptools is always imported before distutils.\n",
      "  warnings.warn(\n",
      "/Users/daniel.liden/miniconda3/envs/mlops/lib/python3.11/site-packages/_distutils_hack/__init__.py:33: UserWarning: Setuptools is replacing distutils.\n",
      "  warnings.warn(\"Setuptools is replacing distutils.\")\n",
      "2023/11/16 10:43:12 INFO mlflow.models.evaluation.base: Evaluating the model with the default evaluator.\n",
      "2023/11/16 10:43:12 INFO mlflow.models.evaluation.default_evaluator: Computing model predictions.\n",
      "2023/11/16 10:43:24 INFO mlflow.models.evaluation.default_evaluator: Testing metrics on first row...\n",
      "Using default facebook/roberta-hate-speech-dynabench-r4-target checkpoint\n"
     ]
    },
    {
     "data": {
      "application/vnd.jupyter.widget-view+json": {
       "model_id": "8d8bf72c3dfb4081a285586f0f69bdfc",
       "version_major": 2,
       "version_minor": 0
      },
      "text/plain": [
       "  0%|          | 0/1 [00:00<?, ?it/s]"
      ]
     },
     "metadata": {},
     "output_type": "display_data"
    },
    {
     "name": "stderr",
     "output_type": "stream",
     "text": [
      "2023/11/16 10:43:40 INFO mlflow.models.evaluation.default_evaluator: Evaluating builtin metrics: token_count\n",
      "2023/11/16 10:43:40 INFO mlflow.models.evaluation.default_evaluator: Evaluating builtin metrics: toxicity\n",
      "2023/11/16 10:43:40 INFO mlflow.models.evaluation.default_evaluator: Evaluating builtin metrics: flesch_kincaid_grade_level\n",
      "2023/11/16 10:43:40 INFO mlflow.models.evaluation.default_evaluator: Evaluating builtin metrics: ari_grade_level\n",
      "2023/11/16 10:43:40 INFO mlflow.models.evaluation.default_evaluator: Evaluating builtin metrics: exact_match\n",
      "2023/11/16 10:43:40 INFO mlflow.models.evaluation.default_evaluator: Evaluating metrics: accessibility\n"
     ]
    },
    {
     "data": {
      "application/vnd.jupyter.widget-view+json": {
       "model_id": "9353fbbb5efb4382b1c88a30f4d51de3",
       "version_major": 2,
       "version_minor": 0
      },
      "text/plain": [
       "  0%|          | 0/5 [00:00<?, ?it/s]"
      ]
     },
     "metadata": {},
     "output_type": "display_data"
    },
    {
     "data": {
      "text/plain": [
       "{'toxicity/v1/mean': 0.00015637676988262684,\n",
       " 'toxicity/v1/variance': 4.611356448080803e-10,\n",
       " 'toxicity/v1/p90': 0.00018160425242967903,\n",
       " 'toxicity/v1/ratio': 0.0,\n",
       " 'flesch_kincaid_grade_level/v1/mean': 18.28,\n",
       " 'flesch_kincaid_grade_level/v1/variance': 19.749599999999997,\n",
       " 'flesch_kincaid_grade_level/v1/p90': 22.919999999999998,\n",
       " 'ari_grade_level/v1/mean': 21.560000000000002,\n",
       " 'ari_grade_level/v1/variance': 25.238399999999995,\n",
       " 'ari_grade_level/v1/p90': 26.84,\n",
       " 'accessibility/v1/mean': 8.2,\n",
       " 'accessibility/v1/variance': 3.3600000000000003,\n",
       " 'accessibility/v1/p90': 10.0}"
      ]
     },
     "execution_count": 9,
     "metadata": {},
     "output_type": "execute_result"
    }
   ],
   "source": [
    "import mlflow\n",
    "\n",
    "with mlflow.start_run() as run:\n",
    "    system_prompt = \"Concisely answer the following question.\"\n",
    "    basic_qa_model = mlflow.openai.log_model(\n",
    "        model=\"gpt-3.5-turbo\",\n",
    "        task=openai.ChatCompletion,\n",
    "        artifact_path=\"model\",\n",
    "        messages=[\n",
    "            {\"role\": \"system\", \"content\": system_prompt},\n",
    "            {\"role\": \"user\", \"content\": \"{question}\"},\n",
    "        ],\n",
    "    )\n",
    "    results = mlflow.evaluate(\n",
    "        basic_qa_model.model_uri,\n",
    "        eval_df,\n",
    "        model_type=\"question-answering\",  # model type indicates which metrics are relevant for this task\n",
    "        evaluators=\"default\",\n",
    "        extra_metrics=[\n",
    "            answer_accessibility\n",
    "        ],  # use the answer similarity metric created above\n",
    "    )\n",
    "\n",
    "results.metrics"
   ]
  },
  {
   "cell_type": "code",
   "execution_count": 12,
   "metadata": {},
   "outputs": [
    {
     "data": {
      "application/vnd.jupyter.widget-view+json": {
       "model_id": "f08a734145e942f7a24f618d9c2f6e6a",
       "version_major": 2,
       "version_minor": 0
      },
      "text/plain": [
       "Downloading artifacts:   0%|          | 0/1 [00:00<?, ?it/s]"
      ]
     },
     "metadata": {},
     "output_type": "display_data"
    },
    {
     "data": {
      "text/html": [
       "<style type=\"text/css\">\n",
       "</style>\n",
       "<table id=\"T_a37e0\">\n",
       "  <thead>\n",
       "    <tr>\n",
       "      <th class=\"blank level0\" >&nbsp;</th>\n",
       "      <th id=\"T_a37e0_level0_col0\" class=\"col_heading level0 col0\" >inputs</th>\n",
       "      <th id=\"T_a37e0_level0_col1\" class=\"col_heading level0 col1\" >outputs</th>\n",
       "      <th id=\"T_a37e0_level0_col2\" class=\"col_heading level0 col2\" >accessibility/v1/score</th>\n",
       "      <th id=\"T_a37e0_level0_col3\" class=\"col_heading level0 col3\" >accessibility/v1/justification</th>\n",
       "    </tr>\n",
       "  </thead>\n",
       "  <tbody>\n",
       "    <tr>\n",
       "      <th id=\"T_a37e0_level0_row0\" class=\"row_heading level0 row0\" >0</th>\n",
       "      <td id=\"T_a37e0_row0_col0\" class=\"data row0 col0\" >Explain the concept of supply and demand in economics.</td>\n",
       "      <td id=\"T_a37e0_row0_col1\" class=\"data row0 col1\" >Supply and demand is a fundamental concept in economics that explains the relationship between the quantity of a product that producers are willing to supply and the quantity that consumers are willing to buy. The demand curve represents the quantity of a product that consumers are willing and able to purchase at various prices, while the supply curve represents the quantity of a product that producers are willing and able to sell at various prices. The intersection of these curves determines the equilibrium price and quantity of a product in a market.</td>\n",
       "      <td id=\"T_a37e0_row0_col2\" class=\"data row0 col2\" >8</td>\n",
       "      <td id=\"T_a37e0_row0_col3\" class=\"data row0 col3\" >The response provides a clear and concise explanation of the concept of supply and demand in economics. It uses some technical terms such as 'demand curve', 'supply curve', and 'equilibrium price', which are necessary for the explanation. However, these terms are well-explained and the sentences are structured in a straightforward manner, making the response generally accessible to a broad audience. The response could be slightly more accessible if it provided simpler definitions or examples for these terms. Therefore, the score is 8.</td>\n",
       "    </tr>\n",
       "    <tr>\n",
       "      <th id=\"T_a37e0_level0_row1\" class=\"row_heading level0 row1\" >1</th>\n",
       "      <td id=\"T_a37e0_row1_col0\" class=\"data row1 col0\" >Describe the process of photosynthesis.</td>\n",
       "      <td id=\"T_a37e0_row1_col1\" class=\"data row1 col1\" >Photosynthesis is the process in which green plants, algae, and some bacteria convert sunlight, water, and carbon dioxide into oxygen and glucose. This process occurs in the chloroplasts of the plant cells, where chlorophyll captures sunlight energy. The energy is used to split water molecules, releasing oxygen as a by-product and producing high-energy molecules called ATP and NADPH. Carbon dioxide is then absorbed from the air and combined with ATP and NADPH to synthesize glucose. Oxygen is released back into the atmosphere through small pores called stomata. Overall, photosynthesis is a vital process that sustains life on Earth by generating oxygen and providing energy-rich molecules for organisms.</td>\n",
       "      <td id=\"T_a37e0_row1_col2\" class=\"data row1 col2\" >8</td>\n",
       "      <td id=\"T_a37e0_row1_col3\" class=\"data row1 col3\" >The response provides a detailed explanation of photosynthesis using mostly simple and clear language. It does use some technical terms such as 'chloroplasts', 'chlorophyll', 'ATP', 'NADPH', and 'stomata', which are necessary for a complete explanation of the process. However, these terms are explained in the context, making the information more accessible. The sentence structure is straightforward and the information is presented in a logical order. Therefore, the response is quite accessible to a broad audience, but not entirely free of technical terms.</td>\n",
       "    </tr>\n",
       "    <tr>\n",
       "      <th id=\"T_a37e0_level0_row2\" class=\"row_heading level0 row2\" >2</th>\n",
       "      <td id=\"T_a37e0_row2_col0\" class=\"data row2 col0\" >What are the principles of object-oriented programming?</td>\n",
       "      <td id=\"T_a37e0_row2_col1\" class=\"data row2 col1\" >The principles of object-oriented programming include encapsulation, inheritance, and polymorphism.</td>\n",
       "      <td id=\"T_a37e0_row2_col2\" class=\"data row2 col2\" >10</td>\n",
       "      <td id=\"T_a37e0_row2_col3\" class=\"data row2 col3\" >The response is clear and concise, providing a straightforward answer to the question. The terms used, while technical, are fundamental to the topic of object-oriented programming and are presented without additional jargon or complex sentence structures. This makes the response easily understandable to a wide audience, regardless of their background in programming. Therefore, it scores a perfect 10 on the accessibility scale.</td>\n",
       "    </tr>\n",
       "    <tr>\n",
       "      <th id=\"T_a37e0_level0_row3\" class=\"row_heading level0 row3\" >3</th>\n",
       "      <td id=\"T_a37e0_row3_col0\" class=\"data row3 col0\" >How does quantum computing differ from classical computing?</td>\n",
       "      <td id=\"T_a37e0_row3_col1\" class=\"data row3 col1\" >Quantum computing differs from classical computing by harnessing the principles of quantum mechanics, such as superposition and entanglement, to perform computational tasks. It utilizes quantum bits or qubits, which can represent multiple states simultaneously, enabling parallel processing and potentially exponential speedup over classical computers.</td>\n",
       "      <td id=\"T_a37e0_row3_col2\" class=\"data row3 col2\" >5</td>\n",
       "      <td id=\"T_a37e0_row3_col3\" class=\"data row3 col3\" >The response uses some technical terms such as 'quantum mechanics', 'superposition', 'entanglement', 'quantum bits' or 'qubits', and 'parallel processing'. These terms are necessary to accurately explain the difference between quantum and classical computing, but they may not be easily understood by a general audience. However, the overall structure of the sentences is not overly complex, and the response does make an effort to explain the concepts in a straightforward manner, such as by stating that qubits can represent multiple states simultaneously. Therefore, the response is somewhat accessible, but not exceptionally so, warranting a score of 5.</td>\n",
       "    </tr>\n",
       "    <tr>\n",
       "      <th id=\"T_a37e0_level0_row4\" class=\"row_heading level0 row4\" >4</th>\n",
       "      <td id=\"T_a37e0_row4_col0\" class=\"data row4 col0\" >Discuss the themes in Shakespeare's Hamlet.</td>\n",
       "      <td id=\"T_a37e0_row4_col1\" class=\"data row4 col1\" >The themes in Shakespeare's Hamlet include the complex nature of revenge, the uncertainty of mortality, the consequences of inaction, the corrupting influence of power, the struggle with existential questions, and the destructive effects of deception and appearance versus reality.</td>\n",
       "      <td id=\"T_a37e0_row4_col2\" class=\"data row4 col2\" >10</td>\n",
       "      <td id=\"T_a37e0_row4_col3\" class=\"data row4 col3\" >The response is clear, concise, and free of unnecessary jargon. It uses simple language to explain the themes in Shakespeare's Hamlet, making it easily understandable by a wide audience, regardless of their background. The themes are listed in a straightforward manner, and the language used is not overly complex or technical. Therefore, it scores a perfect 10 on the accessibility scale.</td>\n",
       "    </tr>\n",
       "  </tbody>\n",
       "</table>\n"
      ],
      "text/plain": [
       "<pandas.io.formats.style.Styler at 0x2d2dc8690>"
      ]
     },
     "execution_count": 12,
     "metadata": {},
     "output_type": "execute_result"
    }
   ],
   "source": [
    "pd.set_option(\"display.max_columns\", None)\n",
    "pd.set_option(\"display.expand_frame_repr\", False)\n",
    "df = results.tables[\"eval_results_table\"]\n",
    "df[\n",
    "    [\n",
    "        \"inputs\",\n",
    "        \"outputs\",\n",
    "        \"accessibility/v1/score\",\n",
    "        \"accessibility/v1/justification\",\n",
    "    ]\n",
    "].style"
   ]
  },
  {
   "cell_type": "code",
   "execution_count": 11,
   "metadata": {},
   "outputs": [
    {
     "data": {
      "text/html": [
       "<div>\n",
       "<style scoped>\n",
       "    .dataframe tbody tr th:only-of-type {\n",
       "        vertical-align: middle;\n",
       "    }\n",
       "\n",
       "    .dataframe tbody tr th {\n",
       "        vertical-align: top;\n",
       "    }\n",
       "\n",
       "    .dataframe thead th {\n",
       "        text-align: right;\n",
       "    }\n",
       "</style>\n",
       "<table border=\"1\" class=\"dataframe\">\n",
       "  <thead>\n",
       "    <tr style=\"text-align: right;\">\n",
       "      <th></th>\n",
       "      <th>inputs</th>\n",
       "      <th>outputs</th>\n",
       "      <th>token_count</th>\n",
       "      <th>toxicity/v1/score</th>\n",
       "      <th>flesch_kincaid_grade_level/v1/score</th>\n",
       "      <th>ari_grade_level/v1/score</th>\n",
       "      <th>accessibility/v1/score</th>\n",
       "      <th>accessibility/v1/justification</th>\n",
       "    </tr>\n",
       "  </thead>\n",
       "  <tbody>\n",
       "    <tr>\n",
       "      <th>0</th>\n",
       "      <td>Explain the concept of supply and demand in ec...</td>\n",
       "      <td>Supply and demand is a fundamental concept in ...</td>\n",
       "      <td>96</td>\n",
       "      <td>0.000158</td>\n",
       "      <td>15.3</td>\n",
       "      <td>17.8</td>\n",
       "      <td>8</td>\n",
       "      <td>The response provides a clear and concise expl...</td>\n",
       "    </tr>\n",
       "    <tr>\n",
       "      <th>1</th>\n",
       "      <td>Describe the process of photosynthesis.</td>\n",
       "      <td>Photosynthesis is the process in which green p...</td>\n",
       "      <td>136</td>\n",
       "      <td>0.000146</td>\n",
       "      <td>11.4</td>\n",
       "      <td>14.0</td>\n",
       "      <td>8</td>\n",
       "      <td>The response provides a detailed explanation o...</td>\n",
       "    </tr>\n",
       "    <tr>\n",
       "      <th>2</th>\n",
       "      <td>What are the principles of object-oriented pro...</td>\n",
       "      <td>The principles of object-oriented programming ...</td>\n",
       "      <td>16</td>\n",
       "      <td>0.000141</td>\n",
       "      <td>22.5</td>\n",
       "      <td>26.0</td>\n",
       "      <td>10</td>\n",
       "      <td>The response is clear and concise, providing a...</td>\n",
       "    </tr>\n",
       "    <tr>\n",
       "      <th>3</th>\n",
       "      <td>How does quantum computing differ from classic...</td>\n",
       "      <td>Quantum computing differs from classical compu...</td>\n",
       "      <td>57</td>\n",
       "      <td>0.000140</td>\n",
       "      <td>19.0</td>\n",
       "      <td>22.6</td>\n",
       "      <td>5</td>\n",
       "      <td>The response uses some technical terms such as...</td>\n",
       "    </tr>\n",
       "    <tr>\n",
       "      <th>4</th>\n",
       "      <td>Discuss the themes in Shakespeare's Hamlet.</td>\n",
       "      <td>The themes in Shakespeare's Hamlet include the...</td>\n",
       "      <td>49</td>\n",
       "      <td>0.000197</td>\n",
       "      <td>23.2</td>\n",
       "      <td>27.4</td>\n",
       "      <td>10</td>\n",
       "      <td>The response is clear, concise, and free of un...</td>\n",
       "    </tr>\n",
       "  </tbody>\n",
       "</table>\n",
       "</div>"
      ],
      "text/plain": [
       "                                              inputs                                            outputs  token_count  toxicity/v1/score  flesch_kincaid_grade_level/v1/score  ari_grade_level/v1/score  accessibility/v1/score                     accessibility/v1/justification\n",
       "0  Explain the concept of supply and demand in ec...  Supply and demand is a fundamental concept in ...           96           0.000158                                 15.3                      17.8                       8  The response provides a clear and concise expl...\n",
       "1            Describe the process of photosynthesis.  Photosynthesis is the process in which green p...          136           0.000146                                 11.4                      14.0                       8  The response provides a detailed explanation o...\n",
       "2  What are the principles of object-oriented pro...  The principles of object-oriented programming ...           16           0.000141                                 22.5                      26.0                      10  The response is clear and concise, providing a...\n",
       "3  How does quantum computing differ from classic...  Quantum computing differs from classical compu...           57           0.000140                                 19.0                      22.6                       5  The response uses some technical terms such as...\n",
       "4        Discuss the themes in Shakespeare's Hamlet.  The themes in Shakespeare's Hamlet include the...           49           0.000197                                 23.2                      27.4                      10  The response is clear, concise, and free of un..."
      ]
     },
     "execution_count": 11,
     "metadata": {},
     "output_type": "execute_result"
    }
   ],
   "source": [
    "df"
   ]
  },
  {
   "cell_type": "code",
   "execution_count": null,
   "metadata": {},
   "outputs": [],
   "source": []
  }
 ],
 "metadata": {
  "kernelspec": {
   "display_name": "Python (mlops)",
   "language": "python",
   "name": "mlops"
  },
  "language_info": {
   "codemirror_mode": {
    "name": "ipython",
    "version": 3
   },
   "file_extension": ".py",
   "mimetype": "text/x-python",
   "name": "python",
   "nbconvert_exporter": "python",
   "pygments_lexer": "ipython3",
   "version": "3.11.4"
  }
 },
 "nbformat": 4,
 "nbformat_minor": 2
}
